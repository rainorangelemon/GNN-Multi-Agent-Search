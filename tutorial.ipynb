{
 "cells": [
  {
   "cell_type": "code",
   "execution_count": 1,
   "id": "452ac029-64af-49a0-a32d-e86bf620c80b",
   "metadata": {},
   "outputs": [
    {
     "name": "stderr",
     "output_type": "stream",
     "text": [
      "/home/rainorangelemon/anaconda3/envs/ravens/lib/python3.8/site-packages/tqdm/auto.py:21: TqdmWarning: IProgress not found. Please update jupyter and ipywidgets. See https://ipywidgets.readthedocs.io/en/stable/user_install.html\n",
      "  from .autonotebook import tqdm as notebook_tqdm\n"
     ]
    }
   ],
   "source": [
    "# create env\n",
    "from simulator.maze_env import MazeEnv\n",
    "from simulator.box_env import BoxEnv\n",
    "from configs.str2config import str2config, add_default_argument_and_parse\n",
    "import argparse\n",
    "import logging\n",
    "from utils.config import seed_everything\n",
    "logging.basicConfig(level = logging.INFO)"
   ]
  },
  {
   "cell_type": "code",
   "execution_count": 2,
   "id": "4d8c1741-12f5-44cb-9750-eff80f40690c",
   "metadata": {
    "scrolled": true,
    "tags": []
   },
   "outputs": [
    {
     "name": "stderr",
     "output_type": "stream",
     "text": [
      "INFO:root:Hi, This is root.\n",
      "[INFO]: Hi, This is root.\n",
      "INFO:root:After the configurations are successfully processed and dirs are created.\n",
      "[INFO]: After the configurations are successfully processed and dirs are created.\n",
      "INFO:root:The pipeline of the project will begin now.\n",
      "[INFO]: The pipeline of the project will begin now.\n"
     ]
    },
    {
     "name": "stdout",
     "output_type": "stream",
     "text": [
      "THE Configuration of your experiment ..\n",
      "{'ID_Env_End': 20,\n",
      " 'ID_Env_Start': 0,\n",
      " 'agent': 'Trainer',\n",
      " 'agent_identifier': True,\n",
      " 'async_loading': False,\n",
      " 'batch_size': 4,\n",
      " 'best_epoch': False,\n",
      " 'con_train': False,\n",
      " 'cuda': True,\n",
      " 'data_loader_workers': 0,\n",
      " 'data_root': '/home/rainorangelemon/Documents/GNN_MultiAgentSearch/dataset/',\n",
      " 'dim': 2,\n",
      " 'dim_embed': 64,\n",
      " 'dim_te': 64,\n",
      " 'env_dim': 2,\n",
      " 'env_name': 'BoxEnv',\n",
      " 'exp_name': 'AgentExplorerMultiAgentRegion',\n",
      " 'exp_net': 'chenning',\n",
      " 'exp_setting': 'AgentExplorerMultiAgentRegion',\n",
      " 'gpu_device': 0,\n",
      " 'infer_w': inf,\n",
      " 'k': 6,\n",
      " 'lastest_epoch': True,\n",
      " 'learning_rate': 0.0003,\n",
      " 'log_interval': 10,\n",
      " 'log_loss_interval': 40,\n",
      " 'log_time_trained': '0',\n",
      " 'log_visual_interval': 200,\n",
      " 'max_epoch': 200000,\n",
      " 'max_num_agents': 5,\n",
      " 'min_max_num_agents': [1, 5],\n",
      " 'min_num_agents': 1,\n",
      " 'mode': 'train',\n",
      " 'momentum': 0.9,\n",
      " 'n_nodes': 1000,\n",
      " 'n_workers': 2,\n",
      " 'negative_sampling': 'just_optimal',\n",
      " 'num_Cases_PerProblemGraph': 1,\n",
      " 'num_ProblemGraph_PerEnv': 20,\n",
      " 'num_agents': 5,\n",
      " 'num_map_source': 3000,\n",
      " 'only_constraint': False,\n",
      " 'over_write_preprocess': False,\n",
      " 'pin_memory': True,\n",
      " 're_preprocess': False,\n",
      " 'save_animation': '/home/rainorangelemon/Documents/GNN_MultiAgentSearch/results/animation/',\n",
      " 'save_data': '/home/rainorangelemon/Documents/GNN_MultiAgentSearch/',\n",
      " 'save_tb_data': '/home/rainorangelemon/Documents/GNN_MultiAgentSearch/wandb',\n",
      " 'seed': 4123,\n",
      " 'shrink_split_dataset_end': 8000,\n",
      " 'shuffle_dataset': True,\n",
      " 'split_dataset': False,\n",
      " 'split_train_end': 0.7,\n",
      " 'split_valid_end': 0.85,\n",
      " 'task': 'experiment',\n",
      " 'temporal_encoding': True,\n",
      " 'test_batch_size': 1,\n",
      " 'test_epoch': 0,\n",
      " 'timeout': 300,\n",
      " 'train_TL': False,\n",
      " 'train_gamma': 0.1,\n",
      " 'use_scheduler': False,\n",
      " 'valid_batch_size': 16,\n",
      " 'validate_every': 4,\n",
      " 'weight_decay': 1e-05}\n",
      " *************************************** \n",
      "The experiment name is AgentExplorerMultiAgentRegion\n",
      " *************************************** \n",
      "The checkpoint_dir name is /home/rainorangelemon/Documents/GNN_MultiAgentSearch/experiments/AgentExplorerMultiAgentRegion/BoxEnv/1684985876/checkpoints/\n"
     ]
    }
   ],
   "source": [
    "from configs.str2config import str2config, add_default_argument_and_parse\n",
    "from utils.config import *\n",
    "arg_parser = argparse.ArgumentParser(description=\"Start the experiment agent\")\n",
    "config_setup = add_default_argument_and_parse(arg_parser, 'experiment')\n",
    "config_setup = process_config(config_setup)"
   ]
  },
  {
   "attachments": {},
   "cell_type": "markdown",
   "id": "eef03897",
   "metadata": {},
   "source": [
    "# Maze Environment"
   ]
  },
  {
   "cell_type": "code",
   "execution_count": 3,
   "id": "45950f5b-1e16-4c8e-81e0-254e334e90d9",
   "metadata": {
    "scrolled": true,
    "tags": []
   },
   "outputs": [
    {
     "name": "stdout",
     "output_type": "stream",
     "text": [
      "Initializing Maze environment...\n"
     ]
    }
   ],
   "source": [
    "config_setup.env_name = \"MazeEnv\"\n",
    "env = MazeEnv(config_setup)\n",
    "env.init_new_problem_graph(index=0)\n",
    "env.init_new_problem_instance(index=0);"
   ]
  },
  {
   "cell_type": "code",
   "execution_count": 4,
   "id": "ada111b5-40af-4952-b6f5-65cd445cff6d",
   "metadata": {},
   "outputs": [
    {
     "name": "stderr",
     "output_type": "stream",
     "text": [
      "INFO:utils.config:Global seed set to 1234\n",
      "[INFO]: Global seed set to 1234\n"
     ]
    }
   ],
   "source": [
    "# sometimes this takes a while to run (but no more than the time_budget - 60 seconds)\n",
    "# if the result is None, then it means there is no solution for this problem instance within the time budget\n",
    "# in that case, run the above cell again to initialize a new problem instance\n",
    "seed_everything(1234)\n",
    "from expert.CBS import cbs, CBSPlanner\n",
    "result = CBSPlanner().plan(env, env.agent_starts_vidxs, env.agent_goals_vidxs, time_budget=60)\n",
    "assert result is not None, \"No solution found for this problem instance\""
   ]
  },
  {
   "cell_type": "code",
   "execution_count": 5,
   "id": "00d60bdb-39d8-4b2f-a277-270b3bce1c13",
   "metadata": {
    "scrolled": true,
    "tags": []
   },
   "outputs": [
    {
     "name": "stderr",
     "output_type": "stream",
     "text": [
      "INFO:matplotlib.animation:Animation.save using <class 'matplotlib.animation.FFMpegWriter'>\n",
      "[INFO]: Animation.save using <class 'matplotlib.animation.FFMpegWriter'>\n",
      "INFO:matplotlib.animation:MovieWriter._run: running command: ffmpeg -f rawvideo -vcodec rawvideo -s 4000x4000 -pix_fmt rgba -r 20 -loglevel error -i pipe: -vcodec h264 -pix_fmt yuv420p -y figures/play_maze.mp4\n",
      "[INFO]: MovieWriter._run: running command: ffmpeg -f rawvideo -vcodec rawvideo -s 4000x4000 -pix_fmt rgba -r 20 -loglevel error -i pipe: -vcodec h264 -pix_fmt yuv420p -y figures/play_maze.mp4\n"
     ]
    }
   ],
   "source": [
    "# this will take a while to run (about 1-2 minute)\n",
    "env.render_paths_animate(result.solution, env.agent_goals_vidxs, 'figures/play_maze.mp4')"
   ]
  },
  {
   "attachments": {},
   "cell_type": "markdown",
   "id": "a70df12d",
   "metadata": {},
   "source": [
    "<video controls src=\"figures/play_maze.mp4\">"
   ]
  },
  {
   "attachments": {},
   "cell_type": "markdown",
   "id": "8b2c4d1d",
   "metadata": {},
   "source": [
    "# Box Environment"
   ]
  },
  {
   "cell_type": "code",
   "execution_count": 6,
   "id": "e05bd72c",
   "metadata": {},
   "outputs": [
    {
     "name": "stderr",
     "output_type": "stream",
     "text": [
      "INFO:utils.config:Global seed set to 1234\n",
      "[INFO]: Global seed set to 1234\n"
     ]
    },
    {
     "name": "stdout",
     "output_type": "stream",
     "text": [
      "Initializing Box Environment\n"
     ]
    }
   ],
   "source": [
    "seed_everything(1234)\n",
    "config_setup.env_name = \"BoxEnv\"\n",
    "env = BoxEnv(config_setup)\n",
    "env.init_new_problem_graph(index=0)\n",
    "env.init_new_problem_instance(index=0);"
   ]
  },
  {
   "cell_type": "code",
   "execution_count": 7,
   "id": "0742c555",
   "metadata": {},
   "outputs": [],
   "source": [
    "# sometimes this takes a while to run (but no more than the time_budget - 60 seconds)\n",
    "# if the result is None, then it means there is no solution for this problem instance within the time budget\n",
    "# in that case, run the above cell again to initialize a new problem instance\n",
    "from expert.CBS import cbs, CBSPlanner\n",
    "result = CBSPlanner().plan(env, env.agent_starts_vidxs, env.agent_goals_vidxs, time_budget=60)\n",
    "assert result is not None, \"No solution found for this problem instance\""
   ]
  },
  {
   "cell_type": "code",
   "execution_count": 9,
   "id": "4d840318",
   "metadata": {},
   "outputs": [
    {
     "name": "stderr",
     "output_type": "stream",
     "text": [
      "INFO:matplotlib.animation:Animation.save using <class 'matplotlib.animation.PillowWriter'>\n",
      "[INFO]: Animation.save using <class 'matplotlib.animation.PillowWriter'>\n"
     ]
    }
   ],
   "source": [
    "# this will take a while to run (about 1-2 minute)\n",
    "env.render_paths_animate(result.solution, env.agent_goals_vidxs, 'figures/play_box.gif')"
   ]
  },
  {
   "cell_type": "code",
   "execution_count": 10,
   "id": "4e27fc25",
   "metadata": {},
   "outputs": [
    {
     "ename": "NameError",
     "evalue": "name 'HTML' is not defined",
     "output_type": "error",
     "traceback": [
      "\u001b[0;31m---------------------------------------------------------------------------\u001b[0m",
      "\u001b[0;31mNameError\u001b[0m                                 Traceback (most recent call last)",
      "Cell \u001b[0;32mIn[10], line 3\u001b[0m\n\u001b[1;32m      1\u001b[0m \u001b[39mimport\u001b[39;00m \u001b[39mbase64\u001b[39;00m\n\u001b[1;32m      2\u001b[0m b64 \u001b[39m=\u001b[39m base64\u001b[39m.\u001b[39mb64encode(\u001b[39mopen\u001b[39m(\u001b[39m'\u001b[39m\u001b[39mfigures/play_box.gif\u001b[39m\u001b[39m'\u001b[39m,\u001b[39m'\u001b[39m\u001b[39mrb\u001b[39m\u001b[39m'\u001b[39m)\u001b[39m.\u001b[39mread())\u001b[39m.\u001b[39mdecode(\u001b[39m'\u001b[39m\u001b[39mascii\u001b[39m\u001b[39m'\u001b[39m)\n\u001b[0;32m----> 3\u001b[0m display(HTML(\u001b[39mf\u001b[39m\u001b[39m'\u001b[39m\u001b[39m<img src=\u001b[39m\u001b[39m\"\u001b[39m\u001b[39mdata:image/gif;base64,\u001b[39m\u001b[39m{\u001b[39;00mb64\u001b[39m}\u001b[39;00m\u001b[39m\"\u001b[39m\u001b[39m />\u001b[39m\u001b[39m'\u001b[39m))\n",
      "\u001b[0;31mNameError\u001b[0m: name 'HTML' is not defined"
     ]
    }
   ],
   "source": [
    "import base64\n",
    "from IPython.display import HTML\n",
    "b64 = base64.b64encode(open('figures/play_box.gif','rb').read()).decode('ascii')\n",
    "display(HTML(f'<img src=\"data:image/gif;base64,{b64}\" />'))"
   ]
  }
 ],
 "metadata": {
  "kernelspec": {
   "display_name": "Python 3 (ipykernel)",
   "language": "python",
   "name": "python3"
  },
  "language_info": {
   "codemirror_mode": {
    "name": "ipython",
    "version": 3
   },
   "file_extension": ".py",
   "mimetype": "text/x-python",
   "name": "python",
   "nbconvert_exporter": "python",
   "pygments_lexer": "ipython3",
   "version": "3.8.12"
  }
 },
 "nbformat": 4,
 "nbformat_minor": 5
}
